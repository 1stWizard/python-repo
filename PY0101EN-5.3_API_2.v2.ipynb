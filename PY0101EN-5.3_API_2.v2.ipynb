{
 "cells": [
  {
   "cell_type": "markdown",
   "metadata": {},
   "source": [
    "<center>\n",
    "    <img src=\"https://cf-courses-data.s3.us.cloud-object-storage.appdomain.cloud/assets/logos/SN_web_lightmode.png\" width=\"300\" alt=\"cognitiveclass.ai logo\">\n",
    "</center>\n",
    "\n",
    "# Simple APIs \n",
    "## Random User and Fruitvice API Examples\n",
    "\n",
    "\n",
    "Estimated time needed: **25** minutes\n",
    "\n",
    "## Objectives\n",
    "\n",
    "After completing this lab you will be able to:\n",
    "\n",
    "*   Load and use RandomUser API, using `RandomUser()` Python library\n",
    "*   Load and use Fruitvice API, using `requests` Python library\n",
    "\n"
   ]
  },
  {
   "cell_type": "markdown",
   "metadata": {},
   "source": [
    "The purpose of this notebook is to provide more examples on how to use simple APIs. As you have already learned from previous videos and notebooks, API stands for Application Programming Interface and is a software intermediary that allows two applications to talk to each other. \n",
    "\n",
    "The advantages of using APIs:\n",
    " *   **Automation**. Less human effort is required and workflows can be easily updated to become faster and more      \n",
    "     productive.\n",
    " *   **Efficiency**. It allows to use the capabilities of one of the already developed APIs than to try to \n",
    "     independently implement some functionality from scratch.\n",
    " \n",
    "The disadvantage of using APIs:\n",
    " *   **Secirity**. If the API is poorly integrated, it means it will be vulnerable to attacks, resulting in data    \n",
    "     breeches or losses having financial or reputation implications.\n",
    "\n",
    "One of the applications we will use in this notebook is Random User Generator. RandomUser is an open-source, free API providing developers with randomly generated users to be used as placeholders for testing purposes. This makes the tool similar to Lorem Ipsum, but is a placeholder for people instead of text. The API can return multiple results, as well as specify generated user details such as gender, email, image, username, address, title, first and last name, and more. More information on [RandomUser](https://randomuser.me/documentation?utm_medium=Exinfluencer&utm_source=Exinfluencer&utm_content=000026UJ&utm_term=10006555&utm_id=NA-SkillsNetwork-Channel-SkillsNetworkCoursesIBMDeveloperSkillsNetworkPY0101ENSkillsNetwork1005-2022-01-01#intro) can be found here.\n",
    "\n",
    "Another example of simple API we will use in this notebook is Fruitvice application. The Fruitvice API webservice which provides data for all kinds of fruit! You can use Fruityvice to find out interesting information about fruit and educate yourself. The webservice is completely free to use and contribute to.\n"
   ]
  },
  {
   "cell_type": "markdown",
   "metadata": {},
   "source": [
    "## Example 1: RandomUser API\n",
    "Bellow are Get Methods parameters that we can generate. For more information on the parameters, please visit this [documentation](https://randomuser.me/documentation?utm_medium=Exinfluencer&utm_source=Exinfluencer&utm_content=000026UJ&utm_term=10006555&utm_id=NA-SkillsNetwork-Channel-SkillsNetworkCoursesIBMDeveloperSkillsNetworkPY0101ENSkillsNetwork1005-2022-01-01) page.\n"
   ]
  },
  {
   "cell_type": "markdown",
   "metadata": {},
   "source": [
    "## **Get Methods**\n",
    "\n",
    "- get_cell()\n",
    "- get_city()\n",
    "- get_dob()\n",
    "- get_email()\n",
    "- get_first_name()\n",
    "- get_full_name()\n",
    "- get_gender()\n",
    "- get_id()\n",
    "- get_id_number()\n",
    "- get_id_type()\n",
    "- get_info()\n",
    "- get_last_name()\n",
    "- get_login_md5()\n",
    "- get_login_salt()\n",
    "- get_login_sha1()\n",
    "- get_login_sha256()\n",
    "- get_nat()\n",
    "- get_password()\n",
    "- get_phone()\n",
    "- get_picture()\n",
    "- get_postcode()\n",
    "- get_registered()\n",
    "- get_state()\n",
    "- get_street()\n",
    "- get_username()\n",
    "- get_zipcode()\n"
   ]
  },
  {
   "cell_type": "markdown",
   "metadata": {},
   "source": [
    "To start using the API you can install the `randomuser` library running the `pip install` command.\n"
   ]
  },
  {
   "cell_type": "code",
   "execution_count": 1,
   "metadata": {},
   "outputs": [
    {
     "name": "stdout",
     "output_type": "stream",
     "text": [
      "Collecting randomuser\n",
      "  Downloading randomuser-1.6.tar.gz (5.0 kB)\n",
      "  Preparing metadata (setup.py) ... \u001b[?25ldone\n",
      "\u001b[?25hBuilding wheels for collected packages: randomuser\n",
      "  Building wheel for randomuser (setup.py) ... \u001b[?25ldone\n",
      "\u001b[?25h  Created wheel for randomuser: filename=randomuser-1.6-py3-none-any.whl size=5067 sha256=839a29073b329a9dc2a0b60b07bf4c97379fb6bc49421f9dbbed70a0654167be\n",
      "  Stored in directory: /home/jupyterlab/.cache/pip/wheels/f8/a9/23/1df3ef7a5177d99b4cba8fa52415e1360bde68f520c2a0e489\n",
      "Successfully built randomuser\n",
      "Installing collected packages: randomuser\n",
      "Successfully installed randomuser-1.6\n"
     ]
    }
   ],
   "source": [
    "!pip install randomuser"
   ]
  },
  {
   "cell_type": "markdown",
   "metadata": {},
   "source": [
    "Then, we will load the necessary libraries.\n"
   ]
  },
  {
   "cell_type": "code",
   "execution_count": 2,
   "metadata": {},
   "outputs": [],
   "source": [
    "from randomuser import RandomUser\n",
    "import pandas as pd"
   ]
  },
  {
   "cell_type": "markdown",
   "metadata": {},
   "source": [
    "First, we will create a random user object, r.\n"
   ]
  },
  {
   "cell_type": "code",
   "execution_count": 4,
   "metadata": {},
   "outputs": [
    {
     "data": {
      "text/plain": [
       "<randomuser.RandomUser at 0x7ff79fd0fd10>"
      ]
     },
     "execution_count": 4,
     "metadata": {},
     "output_type": "execute_result"
    }
   ],
   "source": [
    "r = RandomUser()\n",
    "r"
   ]
  },
  {
   "cell_type": "markdown",
   "metadata": {},
   "source": [
    "Then, using `generate_users()` function, we get a list of random 10 users.\n"
   ]
  },
  {
   "cell_type": "code",
   "execution_count": 5,
   "metadata": {},
   "outputs": [],
   "source": [
    "some_list = r.generate_users(10)"
   ]
  },
  {
   "cell_type": "code",
   "execution_count": 6,
   "metadata": {},
   "outputs": [
    {
     "data": {
      "text/plain": [
       "[<randomuser.RandomUser at 0x7ff79fd312d0>,\n",
       " <randomuser.RandomUser at 0x7ff79fd31310>,\n",
       " <randomuser.RandomUser at 0x7ff79fd31350>,\n",
       " <randomuser.RandomUser at 0x7ff79fd31390>,\n",
       " <randomuser.RandomUser at 0x7ff79fd313d0>,\n",
       " <randomuser.RandomUser at 0x7ff79fd31450>,\n",
       " <randomuser.RandomUser at 0x7ff79fd31490>,\n",
       " <randomuser.RandomUser at 0x7ff79fd314d0>,\n",
       " <randomuser.RandomUser at 0x7ff79fd31510>,\n",
       " <randomuser.RandomUser at 0x7ff79fd31410>]"
      ]
     },
     "execution_count": 6,
     "metadata": {},
     "output_type": "execute_result"
    }
   ],
   "source": [
    "some_list"
   ]
  },
  {
   "cell_type": "markdown",
   "metadata": {},
   "source": [
    "The **\"Get Methods\"** functions mentioned at the beginning of this notebook, can generate the required parameters to construct a dataset. For example, to get full name, we call `get_full_name()` function.\n"
   ]
  },
  {
   "cell_type": "code",
   "execution_count": 7,
   "metadata": {},
   "outputs": [
    {
     "data": {
      "text/plain": [
       "'Clara Chu'"
      ]
     },
     "execution_count": 7,
     "metadata": {},
     "output_type": "execute_result"
    }
   ],
   "source": [
    "name = r.get_full_name()\n",
    "name"
   ]
  },
  {
   "cell_type": "markdown",
   "metadata": {},
   "source": [
    "Let's say we only need 10 users with full names and their email addresses. We can write a \"for-loop\" to print these 10 users.\n"
   ]
  },
  {
   "cell_type": "code",
   "execution_count": 8,
   "metadata": {},
   "outputs": [
    {
     "name": "stdout",
     "output_type": "stream",
     "text": [
      "Amy Williamson   amy.williamson@example.com\n",
      "Nevio Joly   nevio.joly@example.com\n",
      "Ava Oliver   ava.oliver@example.com\n",
      "Barbara Knight   barbara.knight@example.com\n",
      "Alberte Nielsen   alberte.nielsen@example.com\n",
      "Emilia Hautala   emilia.hautala@example.com\n",
      "Hansje Van der Louw   hansje.vanderlouw@example.com\n",
      "Alena Steffens   alena.steffens@example.com\n",
      "Léonie Girard   leonie.girard@example.com\n",
      "Everardo Nunes   everardo.nunes@example.com\n"
     ]
    }
   ],
   "source": [
    "for user in some_list:\n",
    "    print (user.get_full_name(),\" \",user.get_email())"
   ]
  },
  {
   "cell_type": "markdown",
   "metadata": {},
   "source": [
    "## Exercise 1\n",
    "In this Exercise, generate photos of the random 5 users.\n"
   ]
  },
  {
   "cell_type": "code",
   "execution_count": 9,
   "metadata": {},
   "outputs": [
    {
     "name": "stdout",
     "output_type": "stream",
     "text": [
      "https://randomuser.me/api/portraits/women/90.jpg\n",
      "https://randomuser.me/api/portraits/men/27.jpg\n",
      "https://randomuser.me/api/portraits/women/56.jpg\n",
      "https://randomuser.me/api/portraits/women/42.jpg\n",
      "https://randomuser.me/api/portraits/women/57.jpg\n",
      "https://randomuser.me/api/portraits/women/10.jpg\n",
      "https://randomuser.me/api/portraits/women/93.jpg\n",
      "https://randomuser.me/api/portraits/women/29.jpg\n",
      "https://randomuser.me/api/portraits/women/79.jpg\n",
      "https://randomuser.me/api/portraits/men/80.jpg\n"
     ]
    }
   ],
   "source": [
    "## Write your code here\n",
    "for user in some_list:\n",
    "    print(user.get_picture())"
   ]
  },
  {
   "cell_type": "markdown",
   "metadata": {},
   "source": [
    "<details><summary>Click here for the solution</summary>\n",
    "\n",
    "```python\n",
    "for user in some_list:\n",
    "    print (user.get_picture())\n",
    "```\n",
    "\n",
    "</details>\n"
   ]
  },
  {
   "cell_type": "markdown",
   "metadata": {},
   "source": [
    "To generate a table with information about the users, we can write a function containing all desirable parameters. For example, name, gender, city, etc. The parameters will depend on the requirements of the test to be performed. We call the Get Methods, listed at the beginning of this notebook. Then, we return pandas dataframe with the users.\n"
   ]
  },
  {
   "cell_type": "code",
   "execution_count": 10,
   "metadata": {},
   "outputs": [],
   "source": [
    "def get_users():\n",
    "    users =[]\n",
    "     \n",
    "    for user in RandomUser.generate_users(10):\n",
    "        users.append({\"Name\":user.get_full_name(),\"Gender\":user.get_gender(),\"City\":user.get_city(),\"State\":user.get_state(),\"Email\":user.get_email(), \"DOB\":user.get_dob(),\"Picture\":user.get_picture()})\n",
    "      \n",
    "    return pd.DataFrame(users)     "
   ]
  },
  {
   "cell_type": "code",
   "execution_count": 11,
   "metadata": {},
   "outputs": [
    {
     "data": {
      "text/html": [
       "<div>\n",
       "<style scoped>\n",
       "    .dataframe tbody tr th:only-of-type {\n",
       "        vertical-align: middle;\n",
       "    }\n",
       "\n",
       "    .dataframe tbody tr th {\n",
       "        vertical-align: top;\n",
       "    }\n",
       "\n",
       "    .dataframe thead th {\n",
       "        text-align: right;\n",
       "    }\n",
       "</style>\n",
       "<table border=\"1\" class=\"dataframe\">\n",
       "  <thead>\n",
       "    <tr style=\"text-align: right;\">\n",
       "      <th></th>\n",
       "      <th>Name</th>\n",
       "      <th>Gender</th>\n",
       "      <th>City</th>\n",
       "      <th>State</th>\n",
       "      <th>Email</th>\n",
       "      <th>DOB</th>\n",
       "      <th>Picture</th>\n",
       "    </tr>\n",
       "  </thead>\n",
       "  <tbody>\n",
       "    <tr>\n",
       "      <th>0</th>\n",
       "      <td>William Poulsen</td>\n",
       "      <td>male</td>\n",
       "      <td>Tisvilde</td>\n",
       "      <td>Midtjylland</td>\n",
       "      <td>william.poulsen@example.com</td>\n",
       "      <td>1986-04-18T23:31:06.671Z</td>\n",
       "      <td>https://randomuser.me/api/portraits/men/34.jpg</td>\n",
       "    </tr>\n",
       "    <tr>\n",
       "      <th>1</th>\n",
       "      <td>Nikolaj Jørgensen</td>\n",
       "      <td>male</td>\n",
       "      <td>Kongsvinger</td>\n",
       "      <td>Syddanmark</td>\n",
       "      <td>nikolaj.jorgensen@example.com</td>\n",
       "      <td>1953-06-05T09:29:23.990Z</td>\n",
       "      <td>https://randomuser.me/api/portraits/men/86.jpg</td>\n",
       "    </tr>\n",
       "    <tr>\n",
       "      <th>2</th>\n",
       "      <td>Ceylan Erdoğan</td>\n",
       "      <td>female</td>\n",
       "      <td>Yozgat</td>\n",
       "      <td>Bolu</td>\n",
       "      <td>ceylan.erdogan@example.com</td>\n",
       "      <td>1967-04-29T10:09:38.813Z</td>\n",
       "      <td>https://randomuser.me/api/portraits/women/93.jpg</td>\n",
       "    </tr>\n",
       "    <tr>\n",
       "      <th>3</th>\n",
       "      <td>Clara Peña</td>\n",
       "      <td>female</td>\n",
       "      <td>Guadalajara</td>\n",
       "      <td>Castilla y León</td>\n",
       "      <td>clara.pena@example.com</td>\n",
       "      <td>1963-12-21T21:06:00.971Z</td>\n",
       "      <td>https://randomuser.me/api/portraits/women/94.jpg</td>\n",
       "    </tr>\n",
       "    <tr>\n",
       "      <th>4</th>\n",
       "      <td>Otto Korpela</td>\n",
       "      <td>male</td>\n",
       "      <td>Sotkamo</td>\n",
       "      <td>Päijät-Häme</td>\n",
       "      <td>otto.korpela@example.com</td>\n",
       "      <td>1979-11-22T09:06:28.324Z</td>\n",
       "      <td>https://randomuser.me/api/portraits/men/57.jpg</td>\n",
       "    </tr>\n",
       "    <tr>\n",
       "      <th>5</th>\n",
       "      <td>Ryder Singh</td>\n",
       "      <td>male</td>\n",
       "      <td>Blenheim</td>\n",
       "      <td>Northland</td>\n",
       "      <td>ryder.singh@example.com</td>\n",
       "      <td>1959-06-11T15:41:35.149Z</td>\n",
       "      <td>https://randomuser.me/api/portraits/men/80.jpg</td>\n",
       "    </tr>\n",
       "    <tr>\n",
       "      <th>6</th>\n",
       "      <td>Nihal Mertoğlu</td>\n",
       "      <td>male</td>\n",
       "      <td>Ağrı</td>\n",
       "      <td>Bursa</td>\n",
       "      <td>nihal.mertoglu@example.com</td>\n",
       "      <td>1966-04-08T23:06:57.927Z</td>\n",
       "      <td>https://randomuser.me/api/portraits/men/75.jpg</td>\n",
       "    </tr>\n",
       "    <tr>\n",
       "      <th>7</th>\n",
       "      <td>Charlie Jean-Baptiste</td>\n",
       "      <td>female</td>\n",
       "      <td>Odessa</td>\n",
       "      <td>Saskatchewan</td>\n",
       "      <td>charlie.jean-baptiste@example.com</td>\n",
       "      <td>1982-05-27T04:16:44.709Z</td>\n",
       "      <td>https://randomuser.me/api/portraits/women/78.jpg</td>\n",
       "    </tr>\n",
       "    <tr>\n",
       "      <th>8</th>\n",
       "      <td>Katie James</td>\n",
       "      <td>female</td>\n",
       "      <td>Portlaoise</td>\n",
       "      <td>Roscommon</td>\n",
       "      <td>katie.james@example.com</td>\n",
       "      <td>1972-05-30T22:03:11.876Z</td>\n",
       "      <td>https://randomuser.me/api/portraits/women/40.jpg</td>\n",
       "    </tr>\n",
       "    <tr>\n",
       "      <th>9</th>\n",
       "      <td>Jyoti Iwema</td>\n",
       "      <td>female</td>\n",
       "      <td>Lottum</td>\n",
       "      <td>Noord-Holland</td>\n",
       "      <td>jyoti.iwema@example.com</td>\n",
       "      <td>1994-07-26T18:46:26.004Z</td>\n",
       "      <td>https://randomuser.me/api/portraits/women/80.jpg</td>\n",
       "    </tr>\n",
       "  </tbody>\n",
       "</table>\n",
       "</div>"
      ],
      "text/plain": [
       "                    Name  Gender         City            State  \\\n",
       "0        William Poulsen    male     Tisvilde      Midtjylland   \n",
       "1      Nikolaj Jørgensen    male  Kongsvinger       Syddanmark   \n",
       "2         Ceylan Erdoğan  female       Yozgat             Bolu   \n",
       "3             Clara Peña  female  Guadalajara  Castilla y León   \n",
       "4           Otto Korpela    male      Sotkamo      Päijät-Häme   \n",
       "5            Ryder Singh    male     Blenheim        Northland   \n",
       "6         Nihal Mertoğlu    male         Ağrı            Bursa   \n",
       "7  Charlie Jean-Baptiste  female       Odessa     Saskatchewan   \n",
       "8            Katie James  female   Portlaoise        Roscommon   \n",
       "9            Jyoti Iwema  female       Lottum    Noord-Holland   \n",
       "\n",
       "                               Email                       DOB  \\\n",
       "0        william.poulsen@example.com  1986-04-18T23:31:06.671Z   \n",
       "1      nikolaj.jorgensen@example.com  1953-06-05T09:29:23.990Z   \n",
       "2         ceylan.erdogan@example.com  1967-04-29T10:09:38.813Z   \n",
       "3             clara.pena@example.com  1963-12-21T21:06:00.971Z   \n",
       "4           otto.korpela@example.com  1979-11-22T09:06:28.324Z   \n",
       "5            ryder.singh@example.com  1959-06-11T15:41:35.149Z   \n",
       "6         nihal.mertoglu@example.com  1966-04-08T23:06:57.927Z   \n",
       "7  charlie.jean-baptiste@example.com  1982-05-27T04:16:44.709Z   \n",
       "8            katie.james@example.com  1972-05-30T22:03:11.876Z   \n",
       "9            jyoti.iwema@example.com  1994-07-26T18:46:26.004Z   \n",
       "\n",
       "                                            Picture  \n",
       "0    https://randomuser.me/api/portraits/men/34.jpg  \n",
       "1    https://randomuser.me/api/portraits/men/86.jpg  \n",
       "2  https://randomuser.me/api/portraits/women/93.jpg  \n",
       "3  https://randomuser.me/api/portraits/women/94.jpg  \n",
       "4    https://randomuser.me/api/portraits/men/57.jpg  \n",
       "5    https://randomuser.me/api/portraits/men/80.jpg  \n",
       "6    https://randomuser.me/api/portraits/men/75.jpg  \n",
       "7  https://randomuser.me/api/portraits/women/78.jpg  \n",
       "8  https://randomuser.me/api/portraits/women/40.jpg  \n",
       "9  https://randomuser.me/api/portraits/women/80.jpg  "
      ]
     },
     "execution_count": 11,
     "metadata": {},
     "output_type": "execute_result"
    }
   ],
   "source": [
    "get_users()"
   ]
  },
  {
   "cell_type": "code",
   "execution_count": 13,
   "metadata": {},
   "outputs": [
    {
     "data": {
      "text/html": [
       "<div>\n",
       "<style scoped>\n",
       "    .dataframe tbody tr th:only-of-type {\n",
       "        vertical-align: middle;\n",
       "    }\n",
       "\n",
       "    .dataframe tbody tr th {\n",
       "        vertical-align: top;\n",
       "    }\n",
       "\n",
       "    .dataframe thead th {\n",
       "        text-align: right;\n",
       "    }\n",
       "</style>\n",
       "<table border=\"1\" class=\"dataframe\">\n",
       "  <thead>\n",
       "    <tr style=\"text-align: right;\">\n",
       "      <th></th>\n",
       "      <th>Name</th>\n",
       "      <th>Gender</th>\n",
       "      <th>City</th>\n",
       "      <th>State</th>\n",
       "      <th>Email</th>\n",
       "      <th>DOB</th>\n",
       "      <th>Picture</th>\n",
       "    </tr>\n",
       "  </thead>\n",
       "  <tbody>\n",
       "    <tr>\n",
       "      <th>0</th>\n",
       "      <td>Alexia Richard</td>\n",
       "      <td>female</td>\n",
       "      <td>Pau</td>\n",
       "      <td>Guyane</td>\n",
       "      <td>alexia.richard@example.com</td>\n",
       "      <td>1976-09-24T05:43:58.483Z</td>\n",
       "      <td>https://randomuser.me/api/portraits/women/20.jpg</td>\n",
       "    </tr>\n",
       "    <tr>\n",
       "      <th>1</th>\n",
       "      <td>Alex Vincent</td>\n",
       "      <td>male</td>\n",
       "      <td>Perpignan</td>\n",
       "      <td>Indre</td>\n",
       "      <td>alex.vincent@example.com</td>\n",
       "      <td>1944-10-24T01:10:53.096Z</td>\n",
       "      <td>https://randomuser.me/api/portraits/men/4.jpg</td>\n",
       "    </tr>\n",
       "    <tr>\n",
       "      <th>2</th>\n",
       "      <td>Liam Smith</td>\n",
       "      <td>male</td>\n",
       "      <td>Elgin</td>\n",
       "      <td>Northwest Territories</td>\n",
       "      <td>liam.smith@example.com</td>\n",
       "      <td>1954-11-20T19:16:01.818Z</td>\n",
       "      <td>https://randomuser.me/api/portraits/men/24.jpg</td>\n",
       "    </tr>\n",
       "    <tr>\n",
       "      <th>3</th>\n",
       "      <td>Ege Erginsoy</td>\n",
       "      <td>female</td>\n",
       "      <td>Bayburt</td>\n",
       "      <td>Adıyaman</td>\n",
       "      <td>ege.erginsoy@example.com</td>\n",
       "      <td>1983-02-27T04:38:23.694Z</td>\n",
       "      <td>https://randomuser.me/api/portraits/women/50.jpg</td>\n",
       "    </tr>\n",
       "    <tr>\n",
       "      <th>4</th>\n",
       "      <td>Louise Gibson</td>\n",
       "      <td>female</td>\n",
       "      <td>El Cajon</td>\n",
       "      <td>Virginia</td>\n",
       "      <td>louise.gibson@example.com</td>\n",
       "      <td>1953-10-21T14:09:22.782Z</td>\n",
       "      <td>https://randomuser.me/api/portraits/women/33.jpg</td>\n",
       "    </tr>\n",
       "    <tr>\n",
       "      <th>5</th>\n",
       "      <td>Emil Hansen</td>\n",
       "      <td>male</td>\n",
       "      <td>Aaborg Øst</td>\n",
       "      <td>Hovedstaden</td>\n",
       "      <td>emil.hansen@example.com</td>\n",
       "      <td>1961-04-30T17:24:24.590Z</td>\n",
       "      <td>https://randomuser.me/api/portraits/men/65.jpg</td>\n",
       "    </tr>\n",
       "    <tr>\n",
       "      <th>6</th>\n",
       "      <td>Emilie Christensen</td>\n",
       "      <td>female</td>\n",
       "      <td>Aarhus</td>\n",
       "      <td>Midtjylland</td>\n",
       "      <td>emilie.christensen@example.com</td>\n",
       "      <td>1996-05-30T00:31:38.709Z</td>\n",
       "      <td>https://randomuser.me/api/portraits/women/83.jpg</td>\n",
       "    </tr>\n",
       "    <tr>\n",
       "      <th>7</th>\n",
       "      <td>امیر قاسمی</td>\n",
       "      <td>male</td>\n",
       "      <td>آبادان</td>\n",
       "      <td>قم</td>\n",
       "      <td>myr.qsmy@example.com</td>\n",
       "      <td>1947-12-26T14:23:27.693Z</td>\n",
       "      <td>https://randomuser.me/api/portraits/men/85.jpg</td>\n",
       "    </tr>\n",
       "    <tr>\n",
       "      <th>8</th>\n",
       "      <td>Grzegorz Hoffmann</td>\n",
       "      <td>male</td>\n",
       "      <td>Lübeck</td>\n",
       "      <td>Baden-Württemberg</td>\n",
       "      <td>grzegorz.hoffmann@example.com</td>\n",
       "      <td>1967-05-07T11:58:45.815Z</td>\n",
       "      <td>https://randomuser.me/api/portraits/men/53.jpg</td>\n",
       "    </tr>\n",
       "    <tr>\n",
       "      <th>9</th>\n",
       "      <td>Emmi Lampinen</td>\n",
       "      <td>female</td>\n",
       "      <td>Pyhtää</td>\n",
       "      <td>Kainuu</td>\n",
       "      <td>emmi.lampinen@example.com</td>\n",
       "      <td>1962-10-08T07:36:24.559Z</td>\n",
       "      <td>https://randomuser.me/api/portraits/women/72.jpg</td>\n",
       "    </tr>\n",
       "  </tbody>\n",
       "</table>\n",
       "</div>"
      ],
      "text/plain": [
       "                 Name  Gender        City                  State  \\\n",
       "0      Alexia Richard  female         Pau                 Guyane   \n",
       "1        Alex Vincent    male   Perpignan                  Indre   \n",
       "2          Liam Smith    male       Elgin  Northwest Territories   \n",
       "3        Ege Erginsoy  female     Bayburt               Adıyaman   \n",
       "4       Louise Gibson  female    El Cajon               Virginia   \n",
       "5         Emil Hansen    male  Aaborg Øst            Hovedstaden   \n",
       "6  Emilie Christensen  female      Aarhus            Midtjylland   \n",
       "7          امیر قاسمی    male      آبادان                     قم   \n",
       "8   Grzegorz Hoffmann    male      Lübeck      Baden-Württemberg   \n",
       "9       Emmi Lampinen  female      Pyhtää                 Kainuu   \n",
       "\n",
       "                            Email                       DOB  \\\n",
       "0      alexia.richard@example.com  1976-09-24T05:43:58.483Z   \n",
       "1        alex.vincent@example.com  1944-10-24T01:10:53.096Z   \n",
       "2          liam.smith@example.com  1954-11-20T19:16:01.818Z   \n",
       "3        ege.erginsoy@example.com  1983-02-27T04:38:23.694Z   \n",
       "4       louise.gibson@example.com  1953-10-21T14:09:22.782Z   \n",
       "5         emil.hansen@example.com  1961-04-30T17:24:24.590Z   \n",
       "6  emilie.christensen@example.com  1996-05-30T00:31:38.709Z   \n",
       "7            myr.qsmy@example.com  1947-12-26T14:23:27.693Z   \n",
       "8   grzegorz.hoffmann@example.com  1967-05-07T11:58:45.815Z   \n",
       "9       emmi.lampinen@example.com  1962-10-08T07:36:24.559Z   \n",
       "\n",
       "                                            Picture  \n",
       "0  https://randomuser.me/api/portraits/women/20.jpg  \n",
       "1     https://randomuser.me/api/portraits/men/4.jpg  \n",
       "2    https://randomuser.me/api/portraits/men/24.jpg  \n",
       "3  https://randomuser.me/api/portraits/women/50.jpg  \n",
       "4  https://randomuser.me/api/portraits/women/33.jpg  \n",
       "5    https://randomuser.me/api/portraits/men/65.jpg  \n",
       "6  https://randomuser.me/api/portraits/women/83.jpg  \n",
       "7    https://randomuser.me/api/portraits/men/85.jpg  \n",
       "8    https://randomuser.me/api/portraits/men/53.jpg  \n",
       "9  https://randomuser.me/api/portraits/women/72.jpg  "
      ]
     },
     "execution_count": 13,
     "metadata": {},
     "output_type": "execute_result"
    }
   ],
   "source": [
    "df1 = pd.DataFrame(get_users())  \n",
    "df1"
   ]
  },
  {
   "cell_type": "markdown",
   "metadata": {},
   "source": [
    "Now we have a *pandas* dataframe that can be used for any testing purposes that the tester might have.\n"
   ]
  },
  {
   "cell_type": "markdown",
   "metadata": {},
   "source": [
    "## Example 2: Fruitvice API\n",
    "\n",
    "Another, more common way to use APIs, is through `requests` library. The next lab, Requests and HTTP, will contain more information about requests.\n",
    "\n",
    "We will start by importing all required libraries.\n"
   ]
  },
  {
   "cell_type": "code",
   "execution_count": 22,
   "metadata": {},
   "outputs": [],
   "source": [
    "import requests\n",
    "import json"
   ]
  },
  {
   "cell_type": "markdown",
   "metadata": {},
   "source": [
    "We will obtain the [fruitvice](https://www.fruityvice.com/?utm_medium=Exinfluencer&utm_source=Exinfluencer&utm_content=000026UJ&utm_term=10006555&utm_id=NA-SkillsNetwork-Channel-SkillsNetworkCoursesIBMDeveloperSkillsNetworkPY0101ENSkillsNetwork1005-2022-01-01) API data using `requests.get(\"url\")` function. The data is in a json format.\n"
   ]
  },
  {
   "cell_type": "code",
   "execution_count": 28,
   "metadata": {},
   "outputs": [],
   "source": [
    "#data = requests.get(\"http://www.fruityvice.com/api/fruit/all\")\n"
   ]
  },
  {
   "cell_type": "markdown",
   "metadata": {},
   "source": [
    "We will retrieve results using `json.loads()` function.\n"
   ]
  },
  {
   "cell_type": "code",
   "execution_count": null,
   "metadata": {},
   "outputs": [],
   "source": [
    "results = json.loads(data.text)"
   ]
  },
  {
   "cell_type": "markdown",
   "metadata": {},
   "source": [
    "We will convert our json data into *pandas* data frame. \n"
   ]
  },
  {
   "cell_type": "code",
   "execution_count": null,
   "metadata": {},
   "outputs": [],
   "source": [
    "pd.DataFrame(results)"
   ]
  },
  {
   "cell_type": "markdown",
   "metadata": {},
   "source": [
    "The result is in a nested json format. The 'nutrition' column contains multiple subcolumns, so the data needs to be 'flattened' or normalized.\n"
   ]
  },
  {
   "cell_type": "code",
   "execution_count": null,
   "metadata": {},
   "outputs": [],
   "source": [
    "df2 = pd.json_normalize(results)"
   ]
  },
  {
   "cell_type": "code",
   "execution_count": null,
   "metadata": {},
   "outputs": [],
   "source": [
    "df2"
   ]
  },
  {
   "cell_type": "markdown",
   "metadata": {},
   "source": [
    "Let's see if we can extract some information from this dataframe. Perhaps, we need to know the family and genus of a cherry.\n"
   ]
  },
  {
   "cell_type": "code",
   "execution_count": null,
   "metadata": {},
   "outputs": [],
   "source": [
    "cherry = df2.loc[df2[\"name\"] == 'Cherry']\n",
    "(cherry.iloc[0]['family']) , (cherry.iloc[0]['genus'])"
   ]
  },
  {
   "cell_type": "markdown",
   "metadata": {},
   "source": [
    "## Exercise 2\n",
    "In this Exercise, find out how many calories are contained in a banana.\n"
   ]
  },
  {
   "cell_type": "code",
   "execution_count": null,
   "metadata": {},
   "outputs": [],
   "source": [
    "# Write your code here\n",
    "cal_banana = df2.loc[df2[\"name\"] == 'Banana']\n",
    "cal_banana.iloc[0]['nutritions.calories']"
   ]
  },
  {
   "cell_type": "markdown",
   "metadata": {},
   "source": [
    "<details><summary>Click here for the solution</summary>\n",
    "\n",
    "```python\n",
    "cal_banana = df2.loc[df2[\"name\"] == 'Banana']\n",
    "cal_banana.iloc[0]['nutritions.calories']\n",
    "```\n",
    "\n",
    "</details>\n"
   ]
  },
  {
   "cell_type": "markdown",
   "metadata": {},
   "source": [
    "## Exercise 3\n",
    "\n",
    "This [page](https://github.com/public-apis/public-apis#animals) contains a list of free public APIs. Choose any API of your interest and use it to load/extract some information, as shown in the example above.\n",
    "1. Using `requests.get(\"url\")` function, load your data.\n"
   ]
  },
  {
   "cell_type": "code",
   "execution_count": 29,
   "metadata": {},
   "outputs": [
    {
     "data": {
      "text/plain": [
       "<Response [200]>"
      ]
     },
     "execution_count": 29,
     "metadata": {},
     "output_type": "execute_result"
    }
   ],
   "source": [
    "# Write your code here\n",
    "data2 = requests.get(\"https://www.fishwatch.gov/api/species\")\n",
    "data2"
   ]
  },
  {
   "cell_type": "markdown",
   "metadata": {},
   "source": [
    "<details><summary>Click here for the solution</summary>\n",
    "\n",
    "```python\n",
    "data2 = requests.get(\"https://www.fishwatch.gov/api/species\")\n",
    "```\n",
    "\n",
    "</details>\n"
   ]
  },
  {
   "cell_type": "markdown",
   "metadata": {},
   "source": [
    "2. Retrieve results using `json.loads()` function.\n"
   ]
  },
  {
   "cell_type": "code",
   "execution_count": 31,
   "metadata": {},
   "outputs": [],
   "source": [
    "# Write your code here\n",
    "results2 = json.loads(data2.text)\n"
   ]
  },
  {
   "cell_type": "markdown",
   "metadata": {},
   "source": [
    "<details><summary>Click here for the solution</summary>\n",
    "\n",
    "```python\n",
    "results2 = json.loads(data2.text)\n",
    "```\n",
    "\n",
    "</details>\n"
   ]
  },
  {
   "cell_type": "markdown",
   "metadata": {},
   "source": [
    "3. Convert json data into *pandas* data frame. \n"
   ]
  },
  {
   "cell_type": "code",
   "execution_count": null,
   "metadata": {},
   "outputs": [],
   "source": [
    "# Write your code here\n",
    "df3 = pd."
   ]
  },
  {
   "cell_type": "markdown",
   "metadata": {},
   "source": [
    "<details><summary>Click here for the solution</summary>\n",
    "\n",
    "```python\n",
    "df3 = pd.DataFrame(results2)\n",
    "df3\n",
    "```\n",
    "\n",
    "</details>\n"
   ]
  },
  {
   "cell_type": "markdown",
   "metadata": {},
   "source": [
    "# Congratulations! - You have completed the lab\n"
   ]
  },
  {
   "cell_type": "markdown",
   "metadata": {},
   "source": [
    "## Author\n",
    "[Svitlana Kramar](www.linkedin.com/in/svitlana-kramar)\n",
    "\n",
    "\n",
    "Svitlana is a master’s degree Data Science and Analytics student at University of Calgary, who enjoys travelling, learning new languages and cultures and loves spreading her passion for Data Science.\n"
   ]
  },
  {
   "cell_type": "markdown",
   "metadata": {},
   "source": [
    "                                Copyright © 2020 IBM Corporation. All rights reserved.\n"
   ]
  }
 ],
 "metadata": {
  "kernelspec": {
   "display_name": "Python",
   "language": "python",
   "name": "conda-env-python-py"
  },
  "language_info": {
   "codemirror_mode": {
    "name": "ipython",
    "version": 3
   },
   "file_extension": ".py",
   "mimetype": "text/x-python",
   "name": "python",
   "nbconvert_exporter": "python",
   "pygments_lexer": "ipython3",
   "version": "3.7.12"
  }
 },
 "nbformat": 4,
 "nbformat_minor": 4
}
